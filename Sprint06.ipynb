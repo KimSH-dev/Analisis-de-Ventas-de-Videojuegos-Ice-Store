{
 "cells": [
  {
   "cell_type": "markdown",
   "metadata": {
    "tags": [
     "e5c1f0c2-db9f-43a0-99b9-4875c52427e8"
    ]
   },
   "source": [
    "### Paso 1"
   ]
  },
  {
   "cell_type": "code",
   "execution_count": 1,
   "metadata": {
    "tags": [
     "e5c1f0c2-db9f-43a0-99b9-4875c52427e8"
    ]
   },
   "outputs": [
    {
     "name": "stdout",
     "output_type": "stream",
     "text": [
      "<class 'pandas.core.frame.DataFrame'>\n",
      "RangeIndex: 16715 entries, 0 to 16714\n",
      "Data columns (total 11 columns):\n",
      " #   Column           Non-Null Count  Dtype  \n",
      "---  ------           --------------  -----  \n",
      " 0   Name             16713 non-null  object \n",
      " 1   Platform         16715 non-null  object \n",
      " 2   Year_of_Release  16446 non-null  float64\n",
      " 3   Genre            16713 non-null  object \n",
      " 4   NA_sales         16715 non-null  float64\n",
      " 5   EU_sales         16715 non-null  float64\n",
      " 6   JP_sales         16715 non-null  float64\n",
      " 7   Other_sales      16715 non-null  float64\n",
      " 8   Critic_Score     8137 non-null   float64\n",
      " 9   User_Score       10014 non-null  object \n",
      " 10  Rating           9949 non-null   object \n",
      "dtypes: float64(6), object(5)\n",
      "memory usage: 1.4+ MB\n",
      "                       Name Platform  Year_of_Release         Genre  NA_sales  \\\n",
      "0                Wii Sports      Wii           2006.0        Sports     41.36   \n",
      "1         Super Mario Bros.      NES           1985.0      Platform     29.08   \n",
      "2            Mario Kart Wii      Wii           2008.0        Racing     15.68   \n",
      "3         Wii Sports Resort      Wii           2009.0        Sports     15.61   \n",
      "4  Pokemon Red/Pokemon Blue       GB           1996.0  Role-Playing     11.27   \n",
      "\n",
      "   EU_sales  JP_sales  Other_sales  Critic_Score User_Score Rating  \n",
      "0     28.96      3.77         8.45          76.0          8      E  \n",
      "1      3.58      6.81         0.77           NaN        NaN    NaN  \n",
      "2     12.76      3.79         3.29          82.0        8.3      E  \n",
      "3     10.93      3.28         2.95          80.0          8      E  \n",
      "4      8.89     10.22         1.00           NaN        NaN    NaN  \n"
     ]
    }
   ],
   "source": [
    "###PASO 1\n",
    "#0 importacion de librerias\n",
    "import pandas as pd\n",
    "import numpy as np\n",
    "from matplotlib import pyplot as plt\n",
    "import seaborn as sns\n",
    "from math import factorial\n",
    "from scipy import stats as st\n",
    "#1 carga de archivo\n",
    "df=pd.read_csv('/datasets/games.csv')\n",
    "#2\n",
    "df.info(show_counts=True)\n",
    "print(df.head())"
   ]
  },
  {
   "cell_type": "markdown",
   "metadata": {
    "tags": [
     "e5c1f0c2-db9f-43a0-99b9-4875c52427e8"
    ]
   },
   "source": [
    "### Paso 2"
   ]
  },
  {
   "cell_type": "code",
   "execution_count": 2,
   "metadata": {},
   "outputs": [
    {
     "name": "stdout",
     "output_type": "stream",
     "text": [
      "<class 'pandas.core.frame.DataFrame'>\n",
      "RangeIndex: 16715 entries, 0 to 16714\n",
      "Data columns (total 11 columns):\n",
      " #   Column           Non-Null Count  Dtype  \n",
      "---  ------           --------------  -----  \n",
      " 0   name             16715 non-null  object \n",
      " 1   platform         16715 non-null  object \n",
      " 2   year_of_release  16715 non-null  int64  \n",
      " 3   genre            16715 non-null  object \n",
      " 4   na_sales         16715 non-null  float64\n",
      " 5   eu_sales         16715 non-null  float64\n",
      " 6   jp_sales         16715 non-null  float64\n",
      " 7   other_sales      16715 non-null  float64\n",
      " 8   critic_score     16715 non-null  float64\n",
      " 9   user_score       16715 non-null  object \n",
      " 10  rating           16715 non-null  object \n",
      "dtypes: float64(5), int64(1), object(5)\n",
      "memory usage: 1.4+ MB\n",
      "                       name platform  year_of_release         genre  na_sales  \\\n",
      "0                Wii Sports      Wii             2006        Sports     41.36   \n",
      "1         Super Mario Bros.      NES             1985      Platform     29.08   \n",
      "2            Mario Kart Wii      Wii             2008        Racing     15.68   \n",
      "3         Wii Sports Resort      Wii             2009        Sports     15.61   \n",
      "4  Pokemon Red/Pokemon Blue       GB             1996  Role-Playing     11.27   \n",
      "\n",
      "   eu_sales  jp_sales  other_sales  critic_score user_score rating  \n",
      "0     28.96      3.77         8.45          76.0          8      E  \n",
      "1      3.58      6.81         0.77           0.0          0     RP  \n",
      "2     12.76      3.79         3.29          82.0        8.3      E  \n",
      "3     10.93      3.28         2.95          80.0          8      E  \n",
      "4      8.89     10.22         1.00           0.0          0     RP  \n"
     ]
    }
   ],
   "source": [
    "###PASO 2\n",
    "#Reemplaza los nombres de las columnas (ponlos en minúsculas).\n",
    "df.columns = df.columns.str.lower()\n",
    "#rellenamos valores ausentes\n",
    "df['name'] = df['name'].fillna('Desconocido')\n",
    "df['year_of_release'] = df['year_of_release'].fillna(0)\n",
    "df['genre'] = df['genre'].fillna('Desconocido')\n",
    "df['critic_score'] = df['critic_score'].fillna(0)\n",
    "df['user_score'] = df['user_score'].fillna(0)\n",
    "df['rating'] = df['rating'].fillna('RP')\n",
    "#Convierte los datos en los tipos necesarios.\n",
    "df['year_of_release']=df['year_of_release'].astype('int')\n",
    "#valores TBD\n",
    "df['rating'].replace('tbd','RP')\n",
    "df.info(show_counts=True)\n",
    "print(df.head())"
   ]
  },
  {
   "cell_type": "code",
   "execution_count": 3,
   "metadata": {},
   "outputs": [
    {
     "name": "stdout",
     "output_type": "stream",
     "text": [
      "0\n",
      "name               0\n",
      "platform           0\n",
      "year_of_release    0\n",
      "genre              0\n",
      "na_sales           0\n",
      "eu_sales           0\n",
      "jp_sales           0\n",
      "other_sales        0\n",
      "critic_score       0\n",
      "user_score         0\n",
      "rating             0\n",
      "dtype: int64\n"
     ]
    }
   ],
   "source": [
    "print(df.duplicated().sum())\n",
    "print(df.isna().sum())"
   ]
  },
  {
   "cell_type": "markdown",
   "metadata": {},
   "source": [
    "* Se cambio el tipo de datos en la columna 'year_of_release' ya que esta estaba en tipo float y la pasamos a tipo de dto int ya que esta columna contiene datos de los años en la que se realizo\n",
    "* se relleno los valores ausente en caso de la columna 'name' son la denominacion de 'Desconocido', en caso de la columna 'year_of_release' se relleno con valores en 0 ya que no tenemos el año en el que se lanzo, en caso de la columna 'genre' se relleno con 'Desconocido' ya que no se tiene el genero al cual pertenece, en cuanto a las columnas 'critic_score' y 'user_score' se relleo con valores de 0 ya que no tiene score asignado y en cuanto a la columna 'rating' los valores se rellenaron a RP que serian que falta determinar.\n",
    "* Los valores ausentes se deben probablemente a que el tipo de datos no era e correspondiente.\n",
    "* Se presto atención a la abreviatura TBD la cual se cambio por la denominacion RP que significa que falta especificar."
   ]
  },
  {
   "cell_type": "code",
   "execution_count": 4,
   "metadata": {},
   "outputs": [
    {
     "name": "stdout",
     "output_type": "stream",
     "text": [
      "                       name platform  year_of_release         genre  na_sales  \\\n",
      "0                Wii Sports      Wii             2006        Sports     41.36   \n",
      "1         Super Mario Bros.      NES             1985      Platform     29.08   \n",
      "2            Mario Kart Wii      Wii             2008        Racing     15.68   \n",
      "3         Wii Sports Resort      Wii             2009        Sports     15.61   \n",
      "4  Pokemon Red/Pokemon Blue       GB             1996  Role-Playing     11.27   \n",
      "\n",
      "   eu_sales  jp_sales  other_sales  critic_score user_score rating  \\\n",
      "0     28.96      3.77         8.45          76.0          8      E   \n",
      "1      3.58      6.81         0.77           0.0          0     RP   \n",
      "2     12.76      3.79         3.29          82.0        8.3      E   \n",
      "3     10.93      3.28         2.95          80.0          8      E   \n",
      "4      8.89     10.22         1.00           0.0          0     RP   \n",
      "\n",
      "   total_venta  \n",
      "0        82.54  \n",
      "1        40.24  \n",
      "2        35.52  \n",
      "3        32.77  \n",
      "4        31.38  \n"
     ]
    }
   ],
   "source": [
    "df['total_venta']=df['na_sales']+df['eu_sales']+df['jp_sales']+df['other_sales']\n",
    "print(df.head())"
   ]
  },
  {
   "cell_type": "markdown",
   "metadata": {},
   "source": [
    "Se grego una columna al final en la cual se puede observar la suma total de las ventas tanto en norteamerica, europa, japon y demas paises."
   ]
  },
  {
   "cell_type": "markdown",
   "metadata": {
    "tags": [
     "e5c1f0c2-db9f-43a0-99b9-4875c52427e8"
    ]
   },
   "source": [
    "### Paso 3"
   ]
  },
  {
   "cell_type": "code",
   "execution_count": 5,
   "metadata": {},
   "outputs": [
    {
     "name": "stdout",
     "output_type": "stream",
     "text": [
      "    year_of_release  cantidad_juegos\n",
      "0                 0              269\n",
      "1              1980                9\n",
      "2              1981               46\n",
      "3              1982               36\n",
      "4              1983               17\n",
      "5              1984               14\n",
      "6              1985               14\n",
      "7              1986               21\n",
      "8              1987               16\n",
      "9              1988               15\n",
      "10             1989               17\n",
      "11             1990               16\n",
      "12             1991               41\n",
      "13             1992               43\n",
      "14             1993               62\n",
      "15             1994              121\n",
      "16             1995              219\n",
      "17             1996              263\n",
      "18             1997              289\n",
      "19             1998              379\n",
      "20             1999              338\n",
      "21             2000              350\n",
      "22             2001              482\n",
      "23             2002              829\n",
      "24             2003              775\n",
      "25             2004              762\n",
      "26             2005              939\n",
      "27             2006             1006\n",
      "28             2007             1197\n",
      "29             2008             1427\n",
      "30             2009             1426\n",
      "31             2010             1255\n",
      "32             2011             1136\n",
      "33             2012              653\n",
      "34             2013              544\n",
      "35             2014              581\n",
      "36             2015              606\n",
      "37             2016              502\n"
     ]
    }
   ],
   "source": [
    "###PASO 3\n",
    "#Mira cuántos juegos fueron lanzados en diferentes años. ¿Son significativos los datos de cada período?\n",
    "juegos_año=df.groupby('year_of_release')['name'].count().reset_index(name='cantidad_juegos')\n",
    "print(juegos_año)"
   ]
  },
  {
   "cell_type": "markdown",
   "metadata": {},
   "source": [
    "En los datos que observamos se puede ver que tenemos 269 juegos de los cuales no sabemos cual fue su año de lanzamiento; po otro lado desde 1980 tenemos diferente cantidad de juegos que fueron lanzados año tras año, desde 1980 hasta 1993 la cantidad se mantuvo relativamente igual mas al 1994 hasta 2012 hubo un crecimiento significativo creciente y para el 2012 hasta el 2016 hubo una reduccion significativa que se mantuvo durante esos 5 años"
   ]
  },
  {
   "cell_type": "code",
   "execution_count": 6,
   "metadata": {},
   "outputs": [
    {
     "name": "stdout",
     "output_type": "stream",
     "text": [
      "platform\n",
      "PS2     1255.77\n",
      "X360     971.42\n",
      "PS3      939.65\n",
      "Wii      907.51\n",
      "DS       806.12\n",
      "Name: total_venta, dtype: float64\n",
      "year_of_release\n",
      "0        60.37\n",
      "1985      0.02\n",
      "2000     39.17\n",
      "2001    166.43\n",
      "2002    205.38\n",
      "2003    184.31\n",
      "2004    229.08\n",
      "2005    299.05\n",
      "2006    432.96\n",
      "2007    544.30\n",
      "2008    624.31\n",
      "2009    604.13\n",
      "2010    530.81\n",
      "2011    386.90\n",
      "2012    239.82\n",
      "2013    211.96\n",
      "2014     86.25\n",
      "2015     29.92\n",
      "2016      5.30\n",
      "Name: total_venta, dtype: float64\n"
     ]
    }
   ],
   "source": [
    "#Observa cómo varían las ventas de una plataforma a otra.\n",
    "#Elige las plataformas con las mayores ventas totales y\n",
    "ventas_plataf=df.groupby('platform')['total_venta'].sum().sort_values(ascending=False)\n",
    "print(ventas_plataf.head())\n",
    "#construye una distribución basada en los datos de cada año. \n",
    "#Busca las plataformas que solían ser populares pero que ahora no tienen ventas. \n",
    "top_plataformas = ventas_plataf.head().index.tolist()\n",
    "df_top = df[df['platform'].isin(top_plataformas)]\n",
    "ventas_por_año = df_top.groupby('year_of_release')['total_venta'].sum().sort_index()\n",
    "print(ventas_por_año)\n"
   ]
  },
  {
   "cell_type": "markdown",
   "metadata": {},
   "source": [
    "Se observa que las 5 plataformas que mas ventas totales generaron son \"PS2, x360, PS3, Wii y DS\", plataformas que tuvieron ventas crecientes desde 2000 hasta 2010 luego tuvo un decrecimiento dedee el 2011 hasta el 2016. LA plataforma con mas ventas fue \"PS2\""
   ]
  },
  {
   "cell_type": "markdown",
   "metadata": {},
   "source": [
    "Tomaremos datos dentro de los años del 2010 al 2016 para construir el modelo del 2017."
   ]
  },
  {
   "cell_type": "code",
   "execution_count": 7,
   "metadata": {},
   "outputs": [
    {
     "name": "stdout",
     "output_type": "stream",
     "text": [
      "platform             3DS     DS     PC     PS3     PS4    PSP    PSV    Wii  \\\n",
      "year_of_release                                                               \n",
      "2012               51.36  11.01  23.22  107.36    0.00   7.69  16.19  21.71   \n",
      "2013               56.57   1.54  12.38  113.25   25.99   3.14  10.59   8.59   \n",
      "2014               43.76   0.00  13.28   47.76  100.00   0.24  11.90   3.75   \n",
      "2015               27.78   0.00   8.52   16.82  118.90   0.12   6.25   1.14   \n",
      "2016               15.14   0.00   5.25    3.60   69.25   0.00   4.25   0.18   \n",
      "total_plataforma  194.61  12.55  62.65  288.79  314.14  11.19  49.18  35.37   \n",
      "\n",
      "platform           WiiU    X360    XOne  total_año  \n",
      "year_of_release                                     \n",
      "2012              17.56   99.74    0.00     355.84  \n",
      "2013              21.65   88.58   18.96     361.24  \n",
      "2014              22.03   34.74   54.07     331.53  \n",
      "2015              16.35   11.96   60.14     267.98  \n",
      "2016               4.60    1.52   26.15     129.94  \n",
      "total_plataforma  82.19  236.54  159.32    1446.53  \n"
     ]
    }
   ],
   "source": [
    "df_modelo = df[(df['year_of_release'] >= 2012) & (df['year_of_release'] <= 2016)].copy()\n",
    "ventas_por_año_plataformas = (df_modelo.groupby(['year_of_release', 'platform'])['total_venta'].sum().unstack(fill_value=0))\n",
    "\n",
    "ventas_por_año_plataformas['total_año'] = ventas_por_año_plataformas.sum(axis=1)\n",
    "ventas_por_año_plataformas.loc['total_plataforma'] = ventas_por_año_plataformas.sum(axis=0)\n",
    "\n",
    "print(ventas_por_año_plataformas)"
   ]
  },
  {
   "cell_type": "markdown",
   "metadata": {},
   "source": [
    "Desde el 2012 al 2016 la plataformas \"DS y PSP\" fueron perdiendo los ingresos que estos generaban, la plataforma que tiene las mayores ventas en el ultimo año son \"PS4, XOne y 3DS\"; dentro de los 5 ultimos años las plataformas con mayores ventas fueron \"PS4, PS3 y X360\"."
   ]
  },
  {
   "cell_type": "code",
   "execution_count": 8,
   "metadata": {},
   "outputs": [
    {
     "data": {
      "image/png": "[encoded data removed]",
      "text/plain": [
       "<Figure size 1400x600 with 1 Axes>"
      ]
     },
     "metadata": {},
     "output_type": "display_data"
    }
   ],
   "source": [
    "plt.figure(figsize=(14, 6))\n",
    "sns.boxplot(data=df_modelo, x='platform', y='total_venta')\n",
    "\n",
    "plt.title('Distribución de ventas globales por plataforma (2012–2016)')\n",
    "plt.xlabel('Plataforma')\n",
    "plt.ylabel('Ventas globales USD')\n",
    "plt.xticks(rotation=45)\n",
    "plt.grid(True)\n",
    "plt.tight_layout()\n",
    "plt.show()"
   ]
  },
  {
   "cell_type": "markdown",
   "metadata": {},
   "source": [
    "Se puede observar que las plataformas \"PS4 y X360\" tienen las ventas mayores y \"PSV y PSP\" tiene las ventas mas bajas."
   ]
  },
  {
   "cell_type": "code",
   "execution_count": 9,
   "metadata": {},
   "outputs": [
    {
     "data": {
      "image/png": "[encoded data removed]",
      "text/plain": [
       "<Figure size 1400x600 with 2 Axes>"
      ]
     },
     "metadata": {},
     "output_type": "display_data"
    },
    {
     "name": "stdout",
     "output_type": "stream",
     "text": [
      "Correlacion critic score vs ventas: 0.22754960627752652\n",
      "Correlacion user score vs ventas: 0.10493810283090231\n"
     ]
    }
   ],
   "source": [
    "#Crea un gráfico de dispersión y calcula la correlación entre las reseñas y las ventas.\n",
    "df_ps4 = df_modelo[df_modelo['platform'] == 'PS4'].copy()\n",
    "df_ps4['user_score'] = pd.to_numeric(df_ps4['user_score'], errors='coerce')\n",
    "\n",
    "plt.figure(figsize=(14, 6))\n",
    "# Gráfico 1: User Score vs Ventas\n",
    "plt.subplot(1, 2, 2)\n",
    "sns.scatterplot(data=df_ps4, x='user_score', y='total_venta')\n",
    "plt.title('User score vs ventas PS4')\n",
    "plt.xlabel('Puntaje de usuarios de 0–10')\n",
    "plt.ylabel('Ventas globales USD')\n",
    "plt.grid(True)\n",
    "# Gráfico 2: Critic Score vs Ventas\n",
    "plt.subplot(1, 2, 1)\n",
    "sns.scatterplot(data=df_ps4, x='critic_score', y='total_venta')\n",
    "plt.title('Critic score vs ventas PS4')\n",
    "plt.xlabel('Puntaje de criticos de 0–100')\n",
    "plt.ylabel('Ventas globales USD')\n",
    "plt.grid(True)\n",
    "plt.show()\n",
    "\n",
    "cor_critic = df_ps4['critic_score'].corr(df_ps4['total_venta'])\n",
    "cor_user = df_ps4['user_score'].corr(df_ps4['total_venta'])\n",
    "\n",
    "print('Correlacion critic score vs ventas:',cor_critic)\n",
    "print('Correlacion user score vs ventas:',cor_user)"
   ]
  },
  {
   "cell_type": "markdown",
   "metadata": {},
   "source": [
    "En el grafico de dispersión de criticos se observa que los puntajes desde 60 hasta 90  van de forma creciente con las ventas; mas en el puntaje de usuario se ve que el puntabe se mantiene entre 6 y 8 pero no van creciendo las ventas."
   ]
  },
  {
   "cell_type": "code",
   "execution_count": 10,
   "metadata": {},
   "outputs": [
    {
     "name": "stdout",
     "output_type": "stream",
     "text": [
      "genre\n",
      "Action          1744.17\n",
      "Sports          1331.27\n",
      "Shooter         1052.45\n",
      "Role-Playing     934.56\n",
      "Platform         827.77\n",
      "Misc             802.51\n",
      "Racing           728.67\n",
      "Fighting         447.53\n",
      "Simulation       389.97\n",
      "Puzzle           242.57\n",
      "Adventure        237.59\n",
      "Strategy         174.23\n",
      "Desconocido        2.42\n",
      "Name: total_venta, dtype: float64\n"
     ]
    }
   ],
   "source": [
    "#¿Qué se puede decir de los géneros más rentables?\n",
    "df_generos=df.groupby('genre')['total_venta'].sum().sort_values(ascending=False)\n",
    "print(df_generos)"
   ]
  },
  {
   "cell_type": "markdown",
   "metadata": {},
   "source": [
    "Dentro de los 3 generos más vendidos tenemos \"action, sports y shooter\" y los demas generos tienen ventas menores a las 3 mencionadas."
   ]
  },
  {
   "cell_type": "markdown",
   "metadata": {
    "tags": [
     "e5c1f0c2-db9f-43a0-99b9-4875c52427e8"
    ]
   },
   "source": [
    "### Paso 4"
   ]
  },
  {
   "cell_type": "code",
   "execution_count": 11,
   "metadata": {},
   "outputs": [
    {
     "name": "stdout",
     "output_type": "stream",
     "text": [
      "platform\n",
      "X360    140.05\n",
      "PS4     108.74\n",
      "PS3     103.38\n",
      "XOne     93.12\n",
      "3DS      55.31\n",
      "Name: na_sales, dtype: float64\n",
      "platform\n",
      "PS4     141.09\n",
      "PS3     106.86\n",
      "X360     74.52\n",
      "XOne     51.59\n",
      "3DS      42.64\n",
      "Name: eu_sales, dtype: float64\n",
      "platform\n",
      "3DS     87.79\n",
      "PS3     35.29\n",
      "PSV     21.04\n",
      "PS4     15.96\n",
      "WiiU    13.01\n",
      "Name: jp_sales, dtype: float64\n"
     ]
    }
   ],
   "source": [
    "###PASO 4. Crea un perfil de usuario para cada región\n",
    "##REGION NA\n",
    "df_na=df_modelo.groupby('platform')['na_sales'].sum().sort_values(ascending=False)\n",
    "print(df_na.head())\n",
    "df_eu=df_modelo.groupby('platform')['eu_sales'].sum().sort_values(ascending=False)\n",
    "print(df_eu.head())\n",
    "df_jp=df_modelo.groupby('platform')['jp_sales'].sum().sort_values(ascending=False)\n",
    "print(df_jp.head())"
   ]
  },
  {
   "cell_type": "markdown",
   "metadata": {},
   "source": [
    "Dentro de los datos tomados de los ultimos 5 años en base a las plataformas y las ventas que regresentan a Norteamerica, Europa y Japon se observo que las plataformas de PS4, PS3 y 3DS se encuntran en los 3 lugares pudiendo se esta forma ver que estan dentro de las plataformas preferiadas. Por otra parte tambien que observa que en Norteamerica y Europa tiene entre los 3 primeros lugares en plataformas tenemos a \"X360, PS4 y PS3\" y las plataformas \"PSV y WiiU\" solo tienen presencia en Japon mas no en los otros 2 lugares."
   ]
  },
  {
   "cell_type": "code",
   "execution_count": 12,
   "metadata": {},
   "outputs": [
    {
     "name": "stdout",
     "output_type": "stream",
     "text": [
      "genre\n",
      "Action          177.84\n",
      "Shooter         144.77\n",
      "Sports           81.53\n",
      "Role-Playing     64.00\n",
      "Misc             38.19\n",
      "Name: na_sales, dtype: float64\n",
      "genre\n",
      "Action          159.34\n",
      "Shooter         113.47\n",
      "Sports           69.09\n",
      "Role-Playing     48.53\n",
      "Racing           27.29\n",
      "Name: eu_sales, dtype: float64\n",
      "genre\n",
      "Role-Playing    65.44\n",
      "Action          52.80\n",
      "Misc            12.86\n",
      "Simulation      10.41\n",
      "Fighting         9.44\n",
      "Name: jp_sales, dtype: float64\n"
     ]
    }
   ],
   "source": [
    "df_na=df_modelo.groupby('genre')['na_sales'].sum().sort_values(ascending=False)\n",
    "print(df_na.head())\n",
    "df_eu=df_modelo.groupby('genre')['eu_sales'].sum().sort_values(ascending=False)\n",
    "print(df_eu.head())\n",
    "df_jp=df_modelo.groupby('genre')['jp_sales'].sum().sort_values(ascending=False)\n",
    "print(df_jp.head())"
   ]
  },
  {
   "cell_type": "markdown",
   "metadata": {},
   "source": [
    "Dentro de los datos tomados de los ultimos 5 años en base a los generos que se prefieren tenemos en los 3 lugares son \"Action y Role-PLaying\"; asi tambien se observa que tenemos generos como \"Shooter y Sports\" que no son vendidos en Japon y los generos de \"Simulation y Fighting\" solo son vendidos pendro de los 5 primero generos en Japon"
   ]
  },
  {
   "cell_type": "code",
   "execution_count": 13,
   "metadata": {},
   "outputs": [
    {
     "name": "stdout",
     "output_type": "stream",
     "text": [
      "rating\n",
      "M       231.57\n",
      "E       114.37\n",
      "RP      103.31\n",
      "E10+     75.70\n",
      "T        66.02\n",
      "Name: na_sales, dtype: float64\n",
      "rating\n",
      "M       193.96\n",
      "E       113.03\n",
      "RP       91.50\n",
      "E10+     55.37\n",
      "T        52.96\n",
      "Name: eu_sales, dtype: float64\n",
      "rating\n",
      "RP      108.84\n",
      "E        28.33\n",
      "T        26.02\n",
      "M        21.20\n",
      "E10+      8.19\n",
      "Name: jp_sales, dtype: float64\n"
     ]
    }
   ],
   "source": [
    "df_na=df_modelo.groupby('rating')['na_sales'].sum().sort_values(ascending=False)\n",
    "print(df_na.head())\n",
    "df_eu=df_modelo.groupby('rating')['eu_sales'].sum().sort_values(ascending=False)\n",
    "print(df_eu.head())\n",
    "df_jp=df_modelo.groupby('rating')['jp_sales'].sum().sort_values(ascending=False)\n",
    "print(df_jp.head())"
   ]
  },
  {
   "cell_type": "markdown",
   "metadata": {},
   "source": [
    "Se observa que en Norteamerica y Europa se tiene las mismas 5 clasificaciones y en el mismo orden de preferencia dentro de las cuales los juego para mayores de 17 años son los mas vendidos y en 5to puesto en los 3 lugares tenemos a los de clasificacion E10+ que son para personas de 10 años a más."
   ]
  },
  {
   "cell_type": "markdown",
   "metadata": {
    "tags": [
     "e5c1f0c2-db9f-43a0-99b9-4875c52427e8"
    ]
   },
   "source": [
    "### Paso 5"
   ]
  },
  {
   "cell_type": "code",
   "execution_count": 33,
   "metadata": {},
   "outputs": [
    {
     "name": "stdout",
     "output_type": "stream",
     "text": [
      "Valor p de Levene (igualdad de varianzas): 0.48384924931759254\n",
      "p-value: 0.15682360021070552\n",
      "No podemos rechazar la hipótesis nula\n"
     ]
    }
   ],
   "source": [
    "#Las calificaciones promedio de los usuarios para las plataformas Xbox One y PC son las mismas.\n",
    "#df_modelo.info()\n",
    "df_modelo['user_score'] = pd.to_numeric(df_modelo['user_score'], errors='coerce')\n",
    "xone_scores = df_modelo[df_modelo['platform'] == 'XOne']['user_score'].dropna()\n",
    "pc_scores = df_modelo[df_modelo['platform'] == 'PC']['user_score'].dropna()\n",
    "\n",
    "stat_levene, p_levene = st.levene(xone_scores, pc_scores)\n",
    "print(\"Valor p de Levene (igualdad de varianzas):\", p_levene)\n",
    "\n",
    "p_value = st.ttest_ind(xone_scores, pc_scores, equal_var=False)\n",
    "print('p-value:', p_value.pvalue)\n",
    "alpha = 0.05\n",
    "if (p_value.pvalue <alpha):\n",
    "    print(\"Rechazamos la hipótesis nula\")\n",
    "else:\n",
    "    print(\"No podemos rechazar la hipótesis nula\")"
   ]
  },
  {
   "cell_type": "markdown",
   "metadata": {},
   "source": [
    "Las calificaciones de los usuarios para ambas plataformas son estadisticamente igual."
   ]
  },
  {
   "cell_type": "code",
   "execution_count": 34,
   "metadata": {},
   "outputs": [
    {
     "name": "stdout",
     "output_type": "stream",
     "text": [
      "Promedio accion: 3.631230925737538\n",
      "Promedio deportes: 4.272690763052209\n",
      "Valor p de Levene (igualdad de varianzas): 1.5161210001047447e-35\n",
      "p-value: 0.0020226086787488683\n",
      "Rechazamos la hipótesis nula\n"
     ]
    }
   ],
   "source": [
    "#Las calificaciones promedio de los usuarios para los géneros de Acción y Deportes son diferentes.\n",
    "df_modelo['user_score'] = pd.to_numeric(df_modelo['user_score'], errors='coerce')\n",
    "accion_scores = df_modelo[df_modelo['genre'] == 'Action']['user_score'].dropna()\n",
    "deportes_scores = df_modelo[df_modelo['genre'] == 'Sports']['user_score'].dropna()\n",
    "print('Promedio accion:',accion_scores.mean())\n",
    "print('Promedio deportes:',deportes_scores.mean())\n",
    "\n",
    "stat_levene, p_levene = st.levene(accion_scores, deportes_scores)\n",
    "print(\"Valor p de Levene (igualdad de varianzas):\", p_levene)\n",
    "\n",
    "p_value = st.ttest_ind(accion_scores, deportes_scores, equal_var=False)\n",
    "print('p-value:', p_value.pvalue)\n",
    "alpha = 0.05\n",
    "if (p_value.pvalue <alpha):\n",
    "    print(\"Rechazamos la hipótesis nula\")\n",
    "else:\n",
    "    print(\"No podemos rechazar la hipótesis nula\")"
   ]
  },
  {
   "cell_type": "markdown",
   "metadata": {},
   "source": [
    "Las calificaciones promedio de los usuarios para los géneros de Acción y Deportes son significativamente diferentes."
   ]
  },
  {
   "cell_type": "markdown",
   "metadata": {},
   "source": [
    "### CONCLUSIONES"
   ]
  },
  {
   "cell_type": "markdown",
   "metadata": {},
   "source": [
    "Se observo la similitud del uso de las plataformas en Norteamerica y Europa asi como Japon en alguno de ellos tambien pudimos ver las similitud que hay en el consumo de los generos de los videojuegos. Se observo los ingresos que las ventas de cada videojuego genera por cada año y el impacto que este puede generar para la toma de decisiones para los proximos lanzamientos. Tambien se puede ver que juego ya no deben ser producidos para determinadas pltaformas que ya no se usan al pasar de los años."
   ]
  }
 ],
 "metadata": {
  "kernelspec": {
   "display_name": "Python [conda env:base] *",
   "language": "python",
   "name": "conda-base-py"
  },
  "language_info": {
   "codemirror_mode": {
    "name": "ipython",
    "version": 3
   },
   "file_extension": ".py",
   "mimetype": "text/x-python",
   "name": "python",
   "nbconvert_exporter": "python",
   "pygments_lexer": "ipython3",
   "version": "3.12.7"
  }
 },
 "nbformat": 4,
 "nbformat_minor": 4
}
